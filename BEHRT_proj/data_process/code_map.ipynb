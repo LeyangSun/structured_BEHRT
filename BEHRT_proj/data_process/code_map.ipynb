{
 "cells": [
  {
   "cell_type": "code",
   "execution_count": 1,
   "id": "pointed-hollywood",
   "metadata": {},
   "outputs": [],
   "source": [
    "import pandas as pd\n",
    "import pickle"
   ]
  },
  {
   "cell_type": "code",
   "execution_count": 2,
   "id": "premium-liquid",
   "metadata": {},
   "outputs": [],
   "source": [
    "DIAGNOSES = pd.read_csv(\"/data/datasets/Tianchen/data_from_old_server/2021/ADRD_data_from_Xi/process_observation/process_observation/DIAGNOSES.csv\",nrows = 10000)"
   ]
  },
  {
   "cell_type": "code",
   "execution_count": 3,
   "id": "identical-company",
   "metadata": {},
   "outputs": [],
   "source": [
    "\n",
    "df_patient_dimension = pd.read_csv(\"/data/datasets/Tianchen/data_from_old_server/2021/ADRD_data_from_Xi/i2b2/patient_dimension.csv\",nrows = 100)"
   ]
  },
  {
   "cell_type": "code",
   "execution_count": 4,
   "id": "incident-fleece",
   "metadata": {},
   "outputs": [],
   "source": [
    "df_visit_dimension = pd.read_csv(\"/data/datasets/Tianchen/data_from_old_server/2021/ADRD_data_from_Xi/i2b2/visit_dimension.csv\",nrows = 100)"
   ]
  },
  {
   "cell_type": "code",
   "execution_count": 7,
   "id": "broadband-forty",
   "metadata": {},
   "outputs": [
    {
     "name": "stdout",
     "output_type": "stream",
     "text": [
      "['COMOR:ALCOHOL' 'COMOR:ANEMDEF' 'COMOR:ARTH' 'COMOR:BLDLOSS' 'COMOR:CHF'\n",
      " 'COMOR:CHRNLUNG' 'COMOR:COAG' 'COMOR:DEPRESS' 'COMOR:DMCX' 'COMOR:DRUG'\n",
      " 'COMOR:HTN_C' 'COMOR:DM' 'COMOR:HYPOTHY' 'COMOR:LIVER' 'COMOR:LYMPH'\n",
      " 'COMOR:LYTES' 'COMOR:METS' 'COMOR:NEURO' 'COMOR:OBESE' 'COMOR:PARA'\n",
      " 'COMOR:PERIVASC' 'COMOR:PSYCH' 'COMOR:PULMCIRC' 'COMOR:RENLFAIL'\n",
      " 'COMOR:TUMOR' 'COMOR:VALVE' 'COMOR:WGHTLOSS' 'COMOR:ULCER'\n",
      " 'ICD10-D:A04.7' 'ICD10-D:A04.72' 'ICD10-D:A04.8' 'ICD10-D:A09'\n",
      " 'ICD10-D:A41.1' 'ICD10-D:A41.2' 'ICD10-D:A41.3' 'ICD10-D:A41.4'\n",
      " 'ICD10-D:A41.50' 'ICD10-D:A41.51' 'ICD10-D:A41.53' 'ICD10-D:A41.59'\n",
      " 'ICD10-D:A41.81' 'ICD10-D:A41.9' 'ICD10-D:A49.9' 'ICD10-D:A49.01'\n",
      " 'ICD10-D:A49.02' 'ICD10-D:A49.1' 'ICD10-D:A49.8' 'ICD10-D:A59.01'\n",
      " 'ICD10-D:A81.1' 'ICD10-D:B00.2' 'ICD10-D:B02.9' 'ICD10-D:B07.0'\n",
      " 'ICD10-D:B17.10' 'ICD10-D:B18.2' 'ICD10-D:B19.10' 'ICD10-D:B19.20'\n",
      " 'ICD10-D:B19.9' 'ICD10-D:B25.8' 'ICD10-D:B25.9' 'ICD10-D:B27.00'\n",
      " 'ICD10-D:B27.90' 'ICD10-D:B33.8' 'ICD10-D:B34.2' 'ICD10-D:B34.8'\n",
      " 'ICD10-D:B37.0' 'ICD10-D:B37.2' 'ICD10-D:B37.3' 'ICD10-D:B37.41'\n",
      " 'ICD10-D:B37.49' 'ICD10-D:C01' 'ICD10-D:C04.9' 'ICD10-D:C07'\n",
      " 'ICD10-D:B37.9' 'ICD10-D:B48.8' 'ICD10-D:B49' 'ICD10-D:B95.2'\n",
      " 'ICD10-D:B95.4' 'ICD10-D:B95.61' 'ICD10-D:B95.7' 'ICD10-D:B96.1'\n",
      " 'ICD10-D:B96.20' 'ICD10-D:B96.29' 'ICD10-D:B96.4' 'ICD10-D:B96.5'\n",
      " 'ICD10-D:B96.6' 'ICD10-D:B96.89' 'ICD10-D:B34.9' 'ICD10-D:B35.1'\n",
      " 'ICD10-D:B35.3' 'ICD10-D:B35.4' 'ICD10-D:B35.6' 'ICD10-D:B35.8'\n",
      " 'ICD10-D:B35.9' 'ICD10-D:B97.29' 'ICD10-D:B97.4' 'ICD10-D:B97.7'\n",
      " 'ICD10-D:B97.81' 'ICD10-D:B97.89' 'ICD10-D:C20' 'ICD10-D:C22.1'\n",
      " 'ICD10-D:C22.8' 'ICD10-D:C24.0' 'ICD10-D:C30.0' 'ICD10-D:C31.0'\n",
      " 'ICD10-D:C34.00' 'ICD10-D:C34.11' 'ICD10-D:C34.90' 'ICD10-D:C90.00'\n",
      " 'ICD10-D:C34.91' 'ICD10-D:C41.0' 'ICD10-D:C43.59' 'ICD10-D:C44.219'\n",
      " 'ICD10-D:C44.311' 'ICD10-D:C44.319' 'ICD10-D:C44.519' 'ICD10-D:C44.622'\n",
      " 'ICD10-D:C44.629' 'ICD10-D:C44.729' 'ICD10-D:C44.91' 'ICD10-D:C44.92'\n",
      " 'ICD10-D:C50.911' 'ICD10-D:C67.9' 'ICD10-D:C76.0' 'ICD10-D:C77.9'\n",
      " 'ICD10-D:C79.9' 'ICD10-D:C83.70' 'ICD10-D:C83.71' 'ICD10-D:C91.10'\n",
      " 'ICD10-D:D04.30' 'ICD10-D:D04.39' 'ICD10-D:D18.03' 'ICD10-D:D18.09'\n",
      " 'ICD10-D:D21.0' 'ICD10-D:D21.9' 'ICD10-D:D22.39' 'ICD10-D:D22.9'\n",
      " 'ICD10-D:D23.5' 'ICD10-D:D23.9' 'ICD10-D:D25.0' 'ICD10-D:D25.1'\n",
      " 'ICD10-D:D25.9' 'ICD10-D:D32.0' 'ICD10-D:D32.9' 'ICD10-D:D33.3'\n",
      " 'ICD10-D:D36.10' 'ICD10-D:D37.02' 'ICD10-D:D42.0' 'ICD10-D:D46.9'\n",
      " 'ICD10-D:D48.5' 'ICD10-D:D48.9' 'ICD10-D:D50.0' 'ICD10-D:D50.8'\n",
      " 'ICD10-D:D04.9' 'ICD10-D:D09.9' 'ICD10-D:D12.0' 'ICD10-D:D12.2'\n",
      " 'ICD10-D:D12.3' 'ICD10-D:D12.4' 'ICD10-D:D12.6' 'ICD10-D:D13.6'\n",
      " 'ICD10-D:D15.0' 'ICD10-D:D16.4' 'ICD10-D:D17.24' 'ICD10-D:D18.00'\n",
      " 'ICD10-D:D18.01' 'ICD10-D:D50.9' 'ICD10-D:D56.1' 'ICD10-D:D56.3'\n",
      " 'ICD10-D:D56.8' 'ICD10-D:D59.1' 'ICD10-D:D61.818' 'ICD10-D:D62'\n",
      " 'ICD10-D:D63.1' 'ICD10-D:D63.8' 'ICD10-D:D64.9' 'ICD10-D:D65'\n",
      " 'ICD10-D:D68.32' 'ICD10-D:D68.51' 'ICD10-D:D68.9' 'ICD10-D:D69.1'\n",
      " 'ICD10-D:D69.2' 'ICD10-D:D69.49' 'ICD10-D:D69.6' 'ICD10-D:D70.2'\n",
      " 'ICD10-D:D72.1' 'ICD10-D:D72.810' 'ICD10-D:D72.819' 'ICD10-D:D72.821'\n",
      " 'ICD10-D:D72.829' 'ICD10-D:D73.5' 'ICD10-D:D73.89' 'ICD10-D:D73.9'\n",
      " 'ICD10-D:D75.89' 'ICD10-D:D76.3' 'ICD10-D:D84.9' 'ICD10-D:D86.0'\n",
      " 'ICD10-D:D86.9' 'ICD10-D:D89.9' 'ICD10-D:E03.1' 'ICD10-D:E03.4'\n",
      " 'ICD10-D:E03.8' 'ICD10-D:D69.59' 'ICD10-D:E03.9' 'ICD10-D:E04.1'\n",
      " 'ICD10-D:E07.9' 'ICD10-D:E08.41' 'ICD10-D:E08.42' 'ICD10-D:E10.42'\n",
      " 'ICD10-D:E10.43' 'ICD10-D:E10.51' 'ICD10-D:E10.9' 'ICD10-D:E11.10'\n",
      " 'ICD10-D:E11.21' 'ICD10-D:E11.22' 'ICD10-D:E11.29' 'ICD10-D:E11.319'\n",
      " 'ICD10-D:E11.3293' 'ICD10-D:E11.3299' 'ICD10-D:E11.3599' 'ICD10-D:E11.39'\n",
      " 'ICD10-D:E11.40' 'ICD10-D:E11.42' 'ICD10-D:E04.2' 'ICD10-D:E05.20'\n",
      " 'ICD10-D:E06.3' 'ICD10-D:E11.649' 'ICD10-D:E11.65' 'ICD10-D:E11.69'\n",
      " 'ICD10-D:E11.8' 'ICD10-D:E11.9' 'ICD10-D:E11.43' 'ICD10-D:E11.51'\n",
      " 'ICD10-D:E11.59' 'ICD10-D:E44.0' 'ICD10-D:E32.9' 'ICD10-D:E41'\n",
      " 'ICD10-D:E43' 'ICD10-D:E13.42' 'ICD10-D:E13.621' 'ICD10-D:E16.2'\n",
      " 'ICD10-D:E21.0' 'ICD10-D:E21.3' 'ICD10-D:E21.5' 'ICD10-D:E27.40'\n",
      " 'ICD10-D:E29.1' 'ICD10-D:E44.1' 'ICD10-D:E46' 'ICD10-D:E51.9'\n",
      " 'ICD10-D:E53.1' 'ICD10-D:E53.8' 'ICD10-D:E55.9' 'ICD10-D:E66.01'\n",
      " 'ICD10-D:E66.09' 'ICD10-D:E66.3' 'ICD10-D:E66.9' 'ICD10-D:E67.2'\n",
      " 'ICD10-D:E72.20' 'ICD10-D:E78.0' 'ICD10-D:E56.9' 'ICD10-D:E60'\n",
      " 'ICD10-D:E61.0' 'ICD10-D:E61.1' 'ICD10-D:E64.9' 'ICD10-D:E78.00'\n",
      " 'ICD10-D:E78.1' 'ICD10-D:E78.2' 'ICD10-D:E78.4' 'ICD10-D:E78.49'\n",
      " 'ICD10-D:E78.5' 'ICD10-D:E85.4' 'ICD10-D:E85.9' 'ICD10-D:E83.42'\n",
      " 'ICD10-D:E83.39' 'ICD10-D:E83.30' 'ICD10-D:E83.40' 'ICD10-D:E83.41'\n",
      " 'ICD10-D:E83.52' 'ICD10-D:E83.51' 'ICD10-D:E86.0' 'ICD10-D:E85.1'\n",
      " 'ICD10-D:E87.0' 'ICD10-D:E86.1' 'ICD10-D:E86.9' 'ICD10-D:E87.1'\n",
      " 'ICD10-D:E87.5' 'ICD10-D:E87.2' 'ICD10-D:E87.3' 'ICD10-D:E87.6'\n",
      " 'ICD10-D:E87.70' 'ICD10-D:E87.8' 'ICD10-D:E88.09' 'ICD10-D:E89.0'\n",
      " 'ICD10-D:F01.50' 'ICD10-D:F01.51' 'ICD10-D:F02.80']\n"
     ]
    }
   ],
   "source": [
    "print(DIAGNOSES[\"CONCEPT_CD\"].unique())\n"
   ]
  },
  {
   "cell_type": "code",
   "execution_count": 6,
   "id": "later-elements",
   "metadata": {},
   "outputs": [
    {
     "name": "stdout",
     "output_type": "stream",
     "text": [
      "             deid_pat_ID VITAL_STATUS_CD  BIRTH_DATE  DEATH_DATE  SEX_CD  \\\n",
      "0   IRB202001139_PAT_989               N  1931-11-13         NaN    Male   \n",
      "1   IRB202001139_PAT_730               N  1924-06-24         NaN  Female   \n",
      "2   IRB202001139_PAT_269               Y  1933-04-20  2018-12-03  Female   \n",
      "3   IRB202001139_PAT_737               N  1971-02-10         NaN  Female   \n",
      "4   IRB202001139_PAT_679               N  1964-12-27         NaN  Female   \n",
      "5   IRB202001139_PAT_804               N  1961-02-01         NaN    Male   \n",
      "6   IRB202001139_PAT_206               N  1936-03-01         NaN    Male   \n",
      "7   IRB202001139_PAT_612               N  1944-04-28         NaN  Female   \n",
      "8   IRB202001139_PAT_427               Y  1960-09-19  2018-03-10  Female   \n",
      "9   IRB202001139_PAT_379               Y  1947-12-13  2019-06-18    Male   \n",
      "10  IRB202001139_PAT_712               N  1939-10-12         NaN    Male   \n",
      "11  IRB202001139_PAT_433               N  1948-05-22         NaN  Female   \n",
      "12  IRB202001139_PAT_353               N  1959-04-21         NaN  Female   \n",
      "13  IRB202001139_PAT_892               N  1955-07-07         NaN  Female   \n",
      "14   IRB202001139_PAT_86               N  1958-10-28         NaN  Female   \n",
      "15  IRB202001139_PAT_317               N  1941-03-27         NaN    Male   \n",
      "16   IRB202001139_PAT_20               N  1935-01-12         NaN    Male   \n",
      "17  IRB202001139_PAT_776               N  1927-01-11         NaN  Female   \n",
      "18  IRB202001139_PAT_231               N  2014-03-04         NaN    Male   \n",
      "19  IRB202001139_PAT_944               N  1956-11-10         NaN    Male   \n",
      "\n",
      "    AGE_IN_YEARS_NUM LANGUAGE_CD                    RACE_CD MARITAL_STATUS_CD  \\\n",
      "0                 88     English                      White            Single   \n",
      "1                 95     English                      Other           Married   \n",
      "2                 87     English                      White            Single   \n",
      "3                 49     English                      White           Married   \n",
      "4                 55     English                      White          Divorced   \n",
      "5                 59     English                      White           Married   \n",
      "6                 84     English                      White           Married   \n",
      "7                 76     English                      White           Married   \n",
      "8                 59     English  Black or African American            Single   \n",
      "9                 72     English                      White           Married   \n",
      "10                80     English                      White           Married   \n",
      "11                72     English                      White           Married   \n",
      "12                61     English  Black or African American          Divorced   \n",
      "13                64     Spanish                      White            Single   \n",
      "14                61     English                      White           Unknown   \n",
      "15                79     English                      White          Divorced   \n",
      "16                85     English                      White           Married   \n",
      "17                93     English                      White           Married   \n",
      "18                 6     English                      White            Single   \n",
      "19                63     English                      White            Single   \n",
      "\n",
      "    RELIGION_CD     ZIP_CD  STATECITYZIP_PATH  INCOME_CD  \\\n",
      "0           NaN  321-Other                NaN        NaN   \n",
      "1           NaN      32606                NaN        NaN   \n",
      "2           NaN  321-Other                NaN        NaN   \n",
      "3           NaN      33830                NaN        NaN   \n",
      "4           NaN      32607                NaN        NaN   \n",
      "5           NaN  320-Other                NaN        NaN   \n",
      "6           NaN  326-Other                NaN        NaN   \n",
      "7           NaN      32073                NaN        NaN   \n",
      "8           NaN  320-Other                NaN        NaN   \n",
      "9           NaN  326-Other                NaN        NaN   \n",
      "10          NaN  326-Other                NaN        NaN   \n",
      "11          NaN  344-Other                NaN        NaN   \n",
      "12          NaN  320-Other                NaN        NaN   \n",
      "13          NaN        300                NaN        NaN   \n",
      "14          NaN        275                NaN        NaN   \n",
      "15          NaN  321-Other                NaN        NaN   \n",
      "16          NaN  324-Other                NaN        NaN   \n",
      "17          NaN      34601                NaN        NaN   \n",
      "18          NaN      32607                NaN        NaN   \n",
      "19          NaN        980                NaN        NaN   \n",
      "\n",
      "                 ETHNIC_CD      PAYER_CD         SMOKING_STATUS_CD  \\\n",
      "0   Not Hispanic or Latino      SELF PAY                       NaN   \n",
      "1   Not Hispanic or Latino      Medicare            Never Assessed   \n",
      "2   Not Hispanic or Latino  Medicare HMO             Former Smoker   \n",
      "3   Not Hispanic or Latino       Federal             Never Smoker    \n",
      "4   Not Hispanic or Latino  Medicare HMO             Never Smoker    \n",
      "5   Not Hispanic or Latino      Medicare             Never Smoker    \n",
      "6   Not Hispanic or Latino      Medicare             Never Smoker    \n",
      "7   Not Hispanic or Latino      Medicare             Never Smoker    \n",
      "8   Not Hispanic or Latino  Medicaid HMO             Former Smoker   \n",
      "9   Not Hispanic or Latino      Medicare             Former Smoker   \n",
      "10  Not Hispanic or Latino      Medicare             Former Smoker   \n",
      "11  Not Hispanic or Latino      Medicare             Former Smoker   \n",
      "12  Not Hispanic or Latino      SELF PAY  Current Every Day Smoker   \n",
      "13      Hispanic or Latino    Commercial            Never Assessed   \n",
      "14  Not Hispanic or Latino         Other            Never Assessed   \n",
      "15  Not Hispanic or Latino      Medicare             Former Smoker   \n",
      "16  Not Hispanic or Latino           NaN                       NaN   \n",
      "17  Not Hispanic or Latino      Medicare             Former Smoker   \n",
      "18  Not Hispanic or Latino  Managed Care            Never Assessed   \n",
      "19  Not Hispanic or Latino  Managed Care             Former Smoker   \n",
      "\n",
      "           COUNTY_CD SSN_VITAL_STATUS_CD MYCHART_CD CANCER_IND  \n",
      "0             MARION                   N          N          N  \n",
      "1            ALACHUA                   N          N          N  \n",
      "2             PUTNAM                   N          N          N  \n",
      "3               POLK                   N          N          N  \n",
      "4            ALACHUA                   N          Y          Y  \n",
      "5           SUWANNEE                   N          N          N  \n",
      "6               CLAY                   N          N          N  \n",
      "7               CLAY                   N          Y          N  \n",
      "8           SUWANNEE                   N          N          Y  \n",
      "9            ALACHUA                   N          N          Y  \n",
      "10              LEVY                   N          N          Y  \n",
      "11            MARION                   N          Y          Y  \n",
      "12  MADISON-HAMILTON                   N          N          N  \n",
      "13       Non-Florida                   N          N          Y  \n",
      "14       Non-Florida                   N          N          N  \n",
      "15            PUTNAM                   N          N          N  \n",
      "16               BAY                   N          N          N  \n",
      "17          HERNANDO                   N          N          N  \n",
      "18           ALACHUA                   N          Y          Y  \n",
      "19       Non-Florida                   N          N          Y  \n"
     ]
    }
   ],
   "source": [
    "print(df_patient_dimension.head(20))"
   ]
  },
  {
   "cell_type": "code",
   "execution_count": 8,
   "id": "prospective-effectiveness",
   "metadata": {},
   "outputs": [
    {
     "name": "stdout",
     "output_type": "stream",
     "text": [
      "<bound method NDFrame.head of              deid_pat_ID               deid_enc_ID  ACTIVE_STATUS_CD  \\\n",
      "0   IRB202001139_PAT_433        IRB202001139_ENC_1               NaN   \n",
      "1   IRB202001139_PAT_632        IRB202001139_ENC_2               NaN   \n",
      "2   IRB202001139_PAT_632  IRB202001139_ENC_3639976               NaN   \n",
      "3   IRB202001139_PAT_950        IRB202001139_ENC_3               NaN   \n",
      "4   IRB202001139_PAT_986        IRB202001139_ENC_4               NaN   \n",
      "..                   ...                       ...               ...   \n",
      "95  IRB202001139_PAT_697       IRB202001139_ENC_90               NaN   \n",
      "96  IRB202001139_PAT_417       IRB202001139_ENC_91               NaN   \n",
      "97  IRB202001139_PAT_417  IRB202001139_ENC_3640076               NaN   \n",
      "98  IRB202001139_PAT_923       IRB202001139_ENC_92               NaN   \n",
      "99  IRB202001139_PAT_417       IRB202001139_ENC_93               NaN   \n",
      "\n",
      "    START_DATE    END_DATE      INOUT_CD  LOCATION_CD  LOCATION_PATH  \\\n",
      "0   2015-09-29  2015-09-29  CLINIC VISIT    301040110            NaN   \n",
      "1   2013-04-23  2013-04-23  CLINIC VISIT    301040110            NaN   \n",
      "2   2013-04-23  2013-04-23  CLINIC VISIT    301040110            NaN   \n",
      "3   2017-09-13  2017-09-13  CLINIC VISIT    301040110            NaN   \n",
      "4   2017-02-20  2017-02-20  CLINIC VISIT    301037123            NaN   \n",
      "..         ...         ...           ...          ...            ...   \n",
      "95  2019-02-06  2019-02-06  CLINIC VISIT    301002110            NaN   \n",
      "96  2019-05-06  2019-05-06  CLINIC VISIT    301002110            NaN   \n",
      "97  2019-05-06  2019-05-06  CLINIC VISIT    301002110            NaN   \n",
      "98  2014-04-03  2014-04-03  CLINIC VISIT    301002110            NaN   \n",
      "99  2012-11-29  2012-11-29  CLINIC VISIT    301002110            NaN   \n",
      "\n",
      "    LENGTH_OF_STAY  \n",
      "0                0  \n",
      "1                0  \n",
      "2                0  \n",
      "3                0  \n",
      "4                0  \n",
      "..             ...  \n",
      "95               0  \n",
      "96               0  \n",
      "97               0  \n",
      "98               0  \n",
      "99               0  \n",
      "\n",
      "[100 rows x 9 columns]>\n"
     ]
    }
   ],
   "source": [
    "print(df_visit_dimension.head)"
   ]
  },
  {
   "cell_type": "markdown",
   "id": "thrown-output",
   "metadata": {},
   "source": [
    "## import the ICD9 and ICD 10 code"
   ]
  },
  {
   "cell_type": "code",
   "execution_count": 11,
   "id": "starting-driver",
   "metadata": {},
   "outputs": [],
   "source": [
    "icd9_data = pd.read_csv(\"/home/leyang.sun/BERHT/phecode1.csv\")\n",
    "icd10_data = pd.read_csv(\"/home/leyang.sun/BERHT/phecode2.csv\")"
   ]
  },
  {
   "cell_type": "code",
   "execution_count": 12,
   "id": "comparative-charles",
   "metadata": {},
   "outputs": [
    {
     "name": "stdout",
     "output_type": "stream",
     "text": [
      "     ICD9                                   Phenotypes\n",
      "0    8.00                         Intestinal infection\n",
      "1    8.50                          Bacterial enteritis\n",
      "2    8.51                            Intestinal e.coli\n",
      "3    8.52     Intestinal infection due to C. difficile\n",
      "4    8.60                              Viral Enteritis\n",
      "5    8.70         Intestinal infection due to protozoa\n",
      "6   10.00                                 Tuberculosis\n",
      "7   31.00           Diseases due to other mycobacteria\n",
      "8   31.10                                      Leprosy\n",
      "9   38.00                                   Septicemia\n",
      "10  38.10                     Gram negative septicemia\n",
      "11  38.20                     Gram positive septicemia\n",
      "12  38.30                                   Bacteremia\n",
      "13  41.00                      Bacterial infection NOS\n",
      "14  41.10                    Staphylococcus infections\n",
      "15  41.11  Methicillin sensitive Staphylococcus aureus\n",
      "16  41.12  Methicillin resistant Staphylococcus aureus\n",
      "17  41.20                      Streptococcus infection\n",
      "18  41.21                     Rheumatic fever / chorea\n",
      "19  41.40                                      E. coli\n",
      "float64\n"
     ]
    }
   ],
   "source": [
    "icd9_data = pd.read_csv(\"/home/leyang.sun/BERHT/phecode1.csv\")\n",
    "icd10_data = pd.read_csv(\"/home/leyang.sun/BERHT/phecode2.csv\")\n",
    "icd9_df = icd9_data[[\"phecode\", \"phenotype\"]]\n",
    "new_Col = [\"ICD9\", \"Phenotypes\" ]\n",
    "icd9_df.columns  = new_Col\n",
    "print(icd9_df.head(20))\n",
    "print(icd9_df[\"ICD9\"].dtype)"
   ]
  },
  {
   "cell_type": "code",
   "execution_count": 20,
   "id": "delayed-authentication",
   "metadata": {},
   "outputs": [
    {
     "name": "stdout",
     "output_type": "stream",
     "text": [
      "    ICD9  ICD10            Phenotypes\n",
      "0    8.0    A00  Intestinal infection\n",
      "1    8.0  A00.0  Intestinal infection\n",
      "2    8.0  A00.1  Intestinal infection\n",
      "3    8.0  A00.9  Intestinal infection\n",
      "4    8.0    A01  Intestinal infection\n",
      "5    8.5  A01.0  Intestinal infection\n",
      "6    8.0  A01.1  Intestinal infection\n",
      "7    8.0  A01.2  Intestinal infection\n",
      "8    8.0  A01.3  Intestinal infection\n",
      "9    8.0  A01.4  Intestinal infection\n",
      "10   8.5    A02  Intestinal infection\n",
      "11   8.5  A02.0  Intestinal infection\n",
      "12  38.1  A02.1   bacterial infection\n",
      "13   8.5  A02.2  Intestinal infection\n",
      "14   8.5  A02.8  Intestinal infection\n",
      "15   8.5  A02.9  Intestinal infection\n",
      "16   8.5    A03  Intestinal infection\n",
      "17   8.5  A03.0  Intestinal infection\n",
      "18   8.5  A03.1  Intestinal infection\n",
      "19   8.5  A03.2  Intestinal infection\n"
     ]
    }
   ],
   "source": [
    "icd10_df = icd10_data[[\"PHECODE\", 'ICD10', 'Excl. Phenotypes']]\n",
    "new_Col = [\"ICD9\", \"ICD10\", \"Phenotypes\" ]\n",
    "icd10_df.columns  = new_Col\n",
    "print(icd10_df.head(20))"
   ]
  },
  {
   "cell_type": "code",
   "execution_count": 24,
   "id": "fundamental-staff",
   "metadata": {},
   "outputs": [],
   "source": [
    "df_merged = pd.merge(icd9_df, icd10_df, on='Phenotypes',how='outer')\n",
    "df_merged = df_merged.astype({'ICD9_x':'string', 'ICD9_y':'string', 'ICD10':'string'})\n"
   ]
  },
  {
   "cell_type": "code",
   "execution_count": 36,
   "id": "australian-stations",
   "metadata": {},
   "outputs": [
    {
     "name": "stdout",
     "output_type": "stream",
     "text": [
      "      ICD9_x                                         Phenotypes ICD9_y  ICD10\n",
      "11267    nan  Toxic effects of substances chiefly nonmedicin...  989.0  T60.2\n",
      "11268    nan  Toxic effects of substances chiefly nonmedicin...  989.0  T60.3\n",
      "11269    nan  Toxic effects of substances chiefly nonmedicin...  989.0  T60.4\n",
      "11270    nan  Toxic effects of substances chiefly nonmedicin...  989.0  T60.8\n",
      "11271    nan  Toxic effects of substances chiefly nonmedicin...  989.0  T60.9\n",
      "11272    nan  Toxic effects of substances chiefly nonmedicin...  988.0    T61\n",
      "11273    nan  Toxic effects of substances chiefly nonmedicin...  988.0  T61.0\n",
      "11274    nan  Toxic effects of substances chiefly nonmedicin...  988.0  T61.1\n",
      "11275    nan  Toxic effects of substances chiefly nonmedicin...  988.0  T61.2\n",
      "11276    nan  Toxic effects of substances chiefly nonmedicin...  988.0  T61.8\n",
      "11277    nan  Toxic effects of substances chiefly nonmedicin...  988.0  T61.9\n",
      "11278    nan  Toxic effects of substances chiefly nonmedicin...  988.0    T62\n",
      "11279    nan  Toxic effects of substances chiefly nonmedicin...  988.0  T62.0\n",
      "11280    nan  Toxic effects of substances chiefly nonmedicin...  988.0  T62.1\n",
      "11281    nan  Toxic effects of substances chiefly nonmedicin...  988.0  T62.2\n",
      "11282    nan  Toxic effects of substances chiefly nonmedicin...  988.0  T62.8\n",
      "11283    nan  Toxic effects of substances chiefly nonmedicin...  988.0  T62.9\n",
      "11284    nan  Toxic effects of substances chiefly nonmedicin...  989.0    T64\n",
      "11285    nan  Toxic effects of substances chiefly nonmedicin...  989.0    T65\n",
      "11286    nan  Toxic effects of substances chiefly nonmedicin...  989.0  T65.0\n",
      "11287    nan  Toxic effects of substances chiefly nonmedicin...  989.0  T65.1\n",
      "11288    nan  Toxic effects of substances chiefly nonmedicin...  989.0  T65.2\n",
      "11289    nan  Toxic effects of substances chiefly nonmedicin...  989.0  T65.3\n",
      "11290    nan  Toxic effects of substances chiefly nonmedicin...  981.0  T65.4\n",
      "11291    nan  Toxic effects of substances chiefly nonmedicin...  989.0  T65.5\n",
      "11292    nan  Toxic effects of substances chiefly nonmedicin...  989.0  T65.6\n",
      "11293    nan  Toxic effects of substances chiefly nonmedicin...  981.0  T65.6\n",
      "11294    nan  Toxic effects of substances chiefly nonmedicin...  989.0  T65.8\n",
      "11295    nan  Toxic effects of substances chiefly nonmedicin...  989.0  T65.9\n",
      "11296    nan  Toxic effects of substances chiefly nonmedicin...  981.0    X45\n",
      "11297    nan                 insect bite, toxic effect of venom  913.0  T63.0\n",
      "11298    nan                 insect bite, toxic effect of venom  913.0  T63.1\n",
      "11299    nan                 insect bite, toxic effect of venom  913.0  T63.2\n",
      "11300    nan                 insect bite, toxic effect of venom  913.0  T63.3\n",
      "11301    nan                 insect bite, toxic effect of venom  913.0  T63.4\n",
      "11302    nan                 insect bite, toxic effect of venom  913.0  T63.6\n",
      "11303    nan                 insect bite, toxic effect of venom  913.0  T63.8\n",
      "11304    nan                 insect bite, toxic effect of venom  913.0  T63.9\n",
      "11305    nan  Certain traumatic complications and unspecifie...  958.0    T79\n",
      "11306    nan  Certain traumatic complications and unspecifie...  958.0  T79.0\n",
      "11307    nan  Certain traumatic complications and unspecifie...  958.0  T79.1\n",
      "11308    nan  Certain traumatic complications and unspecifie...  958.0  T79.2\n",
      "11309    nan  Certain traumatic complications and unspecifie...  958.0  T79.3\n",
      "11310    nan  Certain traumatic complications and unspecifie...  958.0  T79.4\n",
      "11311    nan  Certain traumatic complications and unspecifie...  958.0  T79.5\n",
      "11312    nan  Certain traumatic complications and unspecifie...  958.0  T79.6\n",
      "11313    nan  Certain traumatic complications and unspecifie...  958.2  T79.7\n",
      "11314    nan  Certain traumatic complications and unspecifie...  958.0  T79.8\n",
      "11315    nan  Certain traumatic complications and unspecifie...  958.1  T81.1\n",
      "11316    nan                bone marrow or stem cell transplant  860.0  T86.0\n"
     ]
    }
   ],
   "source": [
    "df_merged = df_merged.fillna(\"nan\")\n",
    "print(df_merged.tail(50))\n",
    "# print(df_merged[\"ICD9_y\"].dtype)\n"
   ]
  },
  {
   "cell_type": "code",
   "execution_count": 37,
   "id": "seeing-reliance",
   "metadata": {},
   "outputs": [],
   "source": [
    "# Create a mapping dictionary\n",
    "mapping_dict = {}\n",
    "mapped_number = 0\n",
    "for index, row in df_merged.iterrows():\n",
    "    \n",
    "    disease = row['Phenotypes']\n",
    "    icd9_1 = row['ICD9_x']\n",
    "    icd9_2 = row['ICD9_y']\n",
    "    icd10 = row['ICD10']\n",
    "\n",
    "   \n",
    "    if disease in mapping_dict.keys():\n",
    "        disease_code = mapping_dict[disease]\n",
    "        \n",
    "        if icd9_1 not in disease_code['ICD9_1']:\n",
    "            disease_code['ICD9_1'].append(icd9_1)\n",
    "        \n",
    "        if icd9_2 not in disease_code['ICD9_2']:\n",
    "            disease_code['ICD9_2'].append(icd9_2)\n",
    "            \n",
    "        if icd10 not in disease_code['ICD10']:\n",
    "            disease_code['ICD10'].append(icd10)\n",
    "       \n",
    "   \n",
    "    else:\n",
    "        mapped_number += 1\n",
    "        mapping_dict[disease] = {\n",
    "            'ICD9_1': [icd9_1],\n",
    "            'ICD9_2': [icd9_2],\n",
    "            'ICD10': [icd10],\n",
    "            'MappedNumber': mapped_number\n",
    "        }"
   ]
  },
  {
   "cell_type": "code",
   "execution_count": null,
   "id": "attractive-ready",
   "metadata": {},
   "outputs": [],
   "source": [
    "# check the mapping dic\n",
    "print(mapping_dict)"
   ]
  },
  {
   "cell_type": "code",
   "execution_count": 66,
   "id": "split-occasion",
   "metadata": {},
   "outputs": [],
   "source": [
    "def revise_code_to_integer(code): # the input code has 1 digit\n",
    "    parts = code.split('.')\n",
    "    if len(parts) > 1:\n",
    "        revised_code = parts[0] # keep the integer part\n",
    "        return revised_code\n",
    "    return code\n"
   ]
  },
  {
   "cell_type": "code",
   "execution_count": 101,
   "id": "collaborative-topic",
   "metadata": {},
   "outputs": [],
   "source": [
    "def find_mapped_number(code_to_find, mapping_dict):\n",
    "    # Check if the exact code_to_find exists in the mapping\n",
    "    for disease, mapping in mapping_dict.items():\n",
    "        for icd_code in [mapping['ICD9_1'], mapping['ICD9_2'], mapping['ICD10']]:\n",
    "            for mapped_code in icd_code:\n",
    "                if code_to_find == mapped_code:\n",
    "                    print(mapped_code)\n",
    "                    return mapping['MappedNumber']\n",
    "               \n",
    "    # If the exact code is not found, try variations 1: code_to_find: 041.12 -> 41.12; 010 -> 10\n",
    "    revised_code_to_find = code_to_find.lstrip('0')\n",
    "    for disease, mapping in mapping_dict.items():\n",
    "        for icd_code in [mapping['ICD9_1'], mapping['ICD9_2'], mapping['ICD10']]:\n",
    "            for mapped_code in icd_code:\n",
    "                if revised_code_to_find == mapped_code:\n",
    "                    print(mapped_code)\n",
    "                    return mapping['MappedNumber']\n",
    "    \n",
    "    # If the exact code is not found, try variations 2: code_to_find: 10 -> 10.0\n",
    "    revised_code_to_find = revised_code_to_find  + '.0'\n",
    "    for disease, mapping in mapping_dict.items():\n",
    "        for icd_code in [mapping['ICD9_1'], mapping['ICD9_2'], mapping['ICD10']]:\n",
    "            for mapped_code in icd_code:\n",
    "                if revised_code_to_find == mapped_code:\n",
    "                    print(mapped_code)\n",
    "                    return mapping['MappedNumber']    \n",
    "                \n",
    "    # if both the code variations not found, merge to the major branch \n",
    "    parts = code_to_find.split('.')\n",
    "    if len(parts)> 1:\n",
    "        branch_code = revise_code_to_integer(code_to_find)\n",
    "                        \n",
    "        # retry exact finding\n",
    "        for disease, mapping in mapping_dict.items():\n",
    "            for icd_code in [mapping['ICD9_1'], mapping['ICD9_2'], mapping['ICD10']]:\n",
    "                for mapped_code in icd_code:\n",
    "                    if branch_code == mapped_code:\n",
    "                        print(mapped_code)\n",
    "                        return mapping['MappedNumber']\n",
    "            \n",
    "            \n",
    "        # retry variations for branch code     \n",
    "        revised_branch_code = branch_code.lstrip('0')\n",
    "        for disease, mapping in mapping_dict.items():\n",
    "            for icd_code in [mapping['ICD9_1'], mapping['ICD9_2'], mapping['ICD10']]:\n",
    "                for mapped_code in icd_code:\n",
    "                    if revised_branch_code == mapped_code:\n",
    "                        print(mapped_code)\n",
    "                        return mapping['MappedNumber']\n",
    "\n",
    "        # If the exact code is not found, try variations 2: code_to_find: 10 -> 10.0\n",
    "        revised_branch_code = revised_branch_code  + '.0'\n",
    "        for disease, mapping in mapping_dict.items():\n",
    "            for icd_code in [mapping['ICD9_1'], mapping['ICD9_2'], mapping['ICD10']]:\n",
    "                for mapped_code in icd_code:\n",
    "                    if revised_branch_code == mapped_code:\n",
    "                        print(mapped_code)\n",
    "                        return mapping['MappedNumber']        \n",
    "           \n",
    "                \n",
    "    return None\n"
   ]
  },
  {
   "cell_type": "code",
   "execution_count": 105,
   "id": "returning-honolulu",
   "metadata": {},
   "outputs": [
    {
     "name": "stdout",
     "output_type": "stream",
     "text": [
      "41.0\n",
      "14\n"
     ]
    }
   ],
   "source": [
    "code_to_find = '041.99'\n",
    "print(find_mapped_number(code_to_find, mapping_dict))"
   ]
  },
  {
   "cell_type": "code",
   "execution_count": 76,
   "id": "nutritional-handle",
   "metadata": {},
   "outputs": [
    {
     "name": "stdout",
     "output_type": "stream",
     "text": [
      "8\n"
     ]
    }
   ],
   "source": [
    "print('008'.lstrip('0'))"
   ]
  },
  {
   "cell_type": "code",
   "execution_count": null,
   "id": "played-academy",
   "metadata": {},
   "outputs": [],
   "source": []
  },
  {
   "cell_type": "code",
   "execution_count": null,
   "id": "configured-business",
   "metadata": {},
   "outputs": [],
   "source": []
  },
  {
   "cell_type": "code",
   "execution_count": 40,
   "id": "clean-virus",
   "metadata": {},
   "outputs": [
    {
     "name": "stdout",
     "output_type": "stream",
     "text": [
      "The mapped number for the code '41.12' is 17\n"
     ]
    }
   ],
   "source": [
    "# Example usage: Given an ICD9 or ICD10 code, identify the mapped number\n",
    "code_to_find = '41.12'  # Replace with the code you want to search for, should be string\n",
    "\n",
    "mapped_number = None\n",
    "for disease, mapping in mapping_dict.items():\n",
    "    if code_to_find in mapping['ICD9_1']  or code_to_find in mapping['ICD9_2'] or code_to_find in mapping['ICD10'] :\n",
    "        mapped_number = mapping['MappedNumber']\n",
    "        break\n",
    "    \n",
    "\n",
    "if mapped_number is not None:\n",
    "    print(f\"The mapped number for the code '{code_to_find}' is {mapped_number}\")\n",
    "else:\n",
    "    print(f\"Code '{code_to_find}' not found in the mapping.\")"
   ]
  },
  {
   "cell_type": "code",
   "execution_count": 36,
   "id": "hindu-colleague",
   "metadata": {},
   "outputs": [],
   "source": [
    "file_path = 'mapping_dict.pkl'\n",
    "with open(file_path, 'wb') as file:\n",
    "    pickle.dump(mapping_dict, file)\n",
    "file.close()"
   ]
  },
  {
   "cell_type": "code",
   "execution_count": 37,
   "id": "living-blast",
   "metadata": {},
   "outputs": [],
   "source": [
    "# Open the file in binary read mode\n",
    "with open(file_path, 'rb') as file:\n",
    "    mapping_dict = pickle.load(file)\n",
    "# Close the file\n",
    "file.close()"
   ]
  },
  {
   "cell_type": "code",
   "execution_count": 38,
   "id": "seasonal-moderator",
   "metadata": {},
   "outputs": [],
   "source": [
    "# define the mapping function to perform on a whole dataframe\n",
    "def find_mapped_number(code_to_find):\n",
    "    for disease, mapping in mapping_dict.items():\n",
    "        if code_to_find in mapping['ICD9_1'] or code_to_find in mapping['ICD9_2'] or code_to_find in mapping['ICD10']:\n",
    "            return mapping['MappedNumber']\n",
    "    return None"
   ]
  },
  {
   "cell_type": "code",
   "execution_count": 45,
   "id": "entitled-emperor",
   "metadata": {},
   "outputs": [],
   "source": [
    "# add the mapping code column to icd9_df\n",
    "icd9_df = icd9_df.astype({'ICD9':'string'}) \n",
    "icd9_df['map_code'] = icd9_df['ICD9'].apply(find_mapped_number)"
   ]
  },
  {
   "cell_type": "code",
   "execution_count": 48,
   "id": "accomplished-duplicate",
   "metadata": {},
   "outputs": [],
   "source": [
    "icd9_df.to_csv(\"icd9_df_map.csv\")"
   ]
  },
  {
   "cell_type": "code",
   "execution_count": null,
   "id": "silent-thickness",
   "metadata": {},
   "outputs": [],
   "source": [
    "# add the mapping code column to icd9_df\n",
    "icd10_df = icd10_df.astype({'ICD9':'string'},{'ICD10':'string'}) \n",
    "icd10_df['map_code'] = icd10_df['ICD10'].apply(find_mapped_number)"
   ]
  },
  {
   "cell_type": "code",
   "execution_count": 50,
   "id": "angry-niagara",
   "metadata": {},
   "outputs": [
    {
     "name": "stdout",
     "output_type": "stream",
     "text": [
      "<bound method NDFrame.head of         ICD9  ICD10                              Phenotypes\n",
      "0        8.0    A00                    Intestinal infection\n",
      "1        8.0  A00.0                    Intestinal infection\n",
      "2        8.0  A00.1                    Intestinal infection\n",
      "3        8.0  A00.9                    Intestinal infection\n",
      "4        8.0    A01                    Intestinal infection\n",
      "...      ...    ...                                     ...\n",
      "9500   367.0  Z97.3                Blindness and low vision\n",
      "9501   389.0  Z97.4      Hearing loss and related disorders\n",
      "9502   509.8  Z99.1  Pneumoconioses and other lung diseases\n",
      "9503  585.31  Z99.2          diseases of kidney and ureters\n",
      "9504    <NA>  Z99.8                                     NaN\n",
      "\n",
      "[9505 rows x 3 columns]>\n"
     ]
    }
   ],
   "source": [
    "print(icd10_df.head)"
   ]
  },
  {
   "cell_type": "code",
   "execution_count": null,
   "id": "burning-supplement",
   "metadata": {},
   "outputs": [],
   "source": []
  }
 ],
 "metadata": {
  "kernelspec": {
   "display_name": "Python-leyang.sun",
   "language": "python",
   "name": "leyang.sun-env"
  },
  "language_info": {
   "codemirror_mode": {
    "name": "ipython",
    "version": 3
   },
   "file_extension": ".py",
   "mimetype": "text/x-python",
   "name": "python",
   "nbconvert_exporter": "python",
   "pygments_lexer": "ipython3",
   "version": "3.11.4"
  }
 },
 "nbformat": 4,
 "nbformat_minor": 5
}
