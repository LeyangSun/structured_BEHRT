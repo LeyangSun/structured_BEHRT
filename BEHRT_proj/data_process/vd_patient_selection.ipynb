{
 "cells": [
  {
   "cell_type": "code",
   "execution_count": 1,
   "id": "european-gentleman",
   "metadata": {},
   "outputs": [],
   "source": [
    "import pandas as pd"
   ]
  },
  {
   "cell_type": "code",
   "execution_count": null,
   "id": "outstanding-fleet",
   "metadata": {},
   "outputs": [],
   "source": [
    "# select 6 criteria ( 6 of \"NCT00478205_13_in_2\")\n",
    "# based on the 6 files in /data/datasets/lou/Aokun_clinical_trial/NCT00478205_13_in_2 count how many records in the sampled 10,000 patients diagnosis record\n",
    "\n",
    "\n",
    "\n"
   ]
  },
  {
   "cell_type": "code",
   "execution_count": 4,
   "id": "united-bible",
   "metadata": {},
   "outputs": [
    {
     "name": "stdout",
     "output_type": "stream",
     "text": [
      "            deid_pat_ID             deid_enc_ID     CONCEPT_CD  START_DATE  \\\n",
      "0  IRB202001139_PAT_626  IRB202001139_ENC_42808  COMOR:ALCOHOL  2012-04-23   \n",
      "1  IRB202001139_PAT_862  IRB202001139_ENC_33331  COMOR:ALCOHOL  2012-07-25   \n",
      "2   IRB202001139_PAT_27  IRB202001139_ENC_40434  COMOR:ALCOHOL  2012-11-09   \n",
      "3  IRB202001139_PAT_165  IRB202001139_ENC_33614  COMOR:ALCOHOL  2012-03-26   \n",
      "4  IRB202001139_PAT_333   IRB202001139_ENC_3261  COMOR:ALCOHOL  2014-05-22   \n",
      "\n",
      "  MODIFIER_CD  VALTYPE_CD  TVAL_CHAR  NVAL_NUM  VALUEFLAG_CD  QUANTITY_NUM  \\\n",
      "0           @         NaN        NaN       NaN           NaN           NaN   \n",
      "1           @         NaN        NaN       NaN           NaN           NaN   \n",
      "2           @         NaN        NaN       NaN           NaN           NaN   \n",
      "3           @         NaN        NaN       NaN           NaN           NaN   \n",
      "4           @         NaN        NaN       NaN           NaN           NaN   \n",
      "\n",
      "   UNITS_CD    END_DATE  LOCATION_CD  Class  Field    Value    typ_idx  \n",
      "0       NaN  2012-04-23          NaN    NaN  COMOR  ALCOHOL  Diagnoses  \n",
      "1       NaN  2012-07-25          NaN    NaN  COMOR  ALCOHOL  Diagnoses  \n",
      "2       NaN  2012-11-09          NaN    NaN  COMOR  ALCOHOL  Diagnoses  \n",
      "3       NaN  2012-03-26          NaN    NaN  COMOR  ALCOHOL  Diagnoses  \n",
      "4       NaN  2014-05-22          NaN    NaN  COMOR  ALCOHOL  Diagnoses  \n"
     ]
    }
   ],
   "source": [
    "DIAGNOSES = pd.read_csv(\"/data/datasets/Tianchen/data_from_old_server/2021/ADRD_data_from_Xi/process_observation/process_observation/DIAGNOSES.csv\", nrows= 100)\n",
    "print(DIAGNOSES.head())"
   ]
  },
  {
   "cell_type": "code",
   "execution_count": null,
   "id": "unable-bloom",
   "metadata": {},
   "outputs": [],
   "source": []
  }
 ],
 "metadata": {
  "kernelspec": {
   "display_name": "Python-leyang.sun",
   "language": "python",
   "name": "leyang.sun-env"
  },
  "language_info": {
   "codemirror_mode": {
    "name": "ipython",
    "version": 3
   },
   "file_extension": ".py",
   "mimetype": "text/x-python",
   "name": "python",
   "nbconvert_exporter": "python",
   "pygments_lexer": "ipython3",
   "version": "3.11.4"
  }
 },
 "nbformat": 4,
 "nbformat_minor": 5
}
