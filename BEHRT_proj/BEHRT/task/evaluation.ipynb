{
 "cells": [
  {
   "cell_type": "code",
   "execution_count": 6,
   "id": "seventh-imagination",
   "metadata": {},
   "outputs": [
    {
     "name": "stderr",
     "output_type": "stream",
     "text": [
      "/home/leyang.sun/.pyenv/versions/miniconda3-latest/lib/python3.11/site-packages/tqdm/auto.py:21: TqdmWarning: IProgress not found. Please update jupyter and ipywidgets. See https://ipywidgets.readthedocs.io/en/stable/user_install.html\n",
      "  from .autonotebook import tqdm as notebook_tqdm\n"
     ]
    }
   ],
   "source": [
    "\n",
    "import os\n",
    "import torch\n",
    "from torch.utils.data import DataLoader\n",
    "import pandas as pd\n",
    "from transformers import BertForMaskedLM, BertTokenizer\n"
   ]
  },
  {
   "cell_type": "code",
   "execution_count": 10,
   "id": "powerful-sleep",
   "metadata": {},
   "outputs": [
    {
     "ename": "TypeError",
     "evalue": "BertForMaskedLM.__init__() missing 1 required positional argument: 'config'",
     "output_type": "error",
     "traceback": [
      "\u001b[0;31m---------------------------------------------------------------------------\u001b[0m",
      "\u001b[0;31mTypeError\u001b[0m                                 Traceback (most recent call last)",
      "Cell \u001b[0;32mIn[10], line 5\u001b[0m\n\u001b[1;32m      2\u001b[0m model_state_dict \u001b[38;5;241m=\u001b[39m torch\u001b[38;5;241m.\u001b[39mload(\u001b[38;5;124m'\u001b[39m\u001b[38;5;124m/home/leyang.sun/BERHT/BEHRT/saved_model/BERT_Large_v1_2023-10-19\u001b[39m\u001b[38;5;124m'\u001b[39m)\n\u001b[1;32m      4\u001b[0m \u001b[38;5;66;03m# Create an instance of the model\u001b[39;00m\n\u001b[0;32m----> 5\u001b[0m model \u001b[38;5;241m=\u001b[39m \u001b[43mBertForMaskedLM\u001b[49m\u001b[43m(\u001b[49m\u001b[43m)\u001b[49m\n\u001b[1;32m      7\u001b[0m \u001b[38;5;66;03m# Load the state dictionary into the model\u001b[39;00m\n\u001b[1;32m      8\u001b[0m model\u001b[38;5;241m.\u001b[39mload_state_dict(model_state_dict)\n",
      "\u001b[0;31mTypeError\u001b[0m: BertForMaskedLM.__init__() missing 1 required positional argument: 'config'"
     ]
    }
   ],
   "source": [
    "# Load the pre-trained model state dictionary\n",
    "model_state_dict = torch.load('/home/leyang.sun/BERHT/BEHRT/saved_model/BERT_Large_v1_2023-10-19')\n",
    "\n",
    "# Load the model's configuration\n",
    "model_config = BertConfig.from_pretrained('/home/leyang.sun/BERHT/BEHRT/saved_model/BERT_Large_v1_2023-10-19/config.json')\n",
    "\n",
    "# Create an instance of the model using the configuration\n",
    "model = BertForMaskedLM(config=model_config)\n",
    "\n",
    "# Load the state dictionary into the model\n",
    "model.load_state_dict(model_state_dict)\n",
    "\n",
    "# Set the model in evaluation mode\n",
    "model.eval()"
   ]
  },
  {
   "cell_type": "code",
   "execution_count": null,
   "id": "martial-philosophy",
   "metadata": {},
   "outputs": [],
   "source": [
    "\n",
    "\n",
    "# Load the pretrained model\n",
    "pretrained_model_path = 'path_to_pretrained_model'  # Replace with the path to your pretrained model\n",
    "pretrained_model = BertForMaskedLM.from_pretrained(pretrained_model_path)\n",
    "pretrained_model.eval()\n",
    "\n",
    "# Define a function to evaluate the model\n",
    "def evaluate_model(model, data_loader):\n",
    "    predictions = []\n",
    "    labels = []\n",
    "\n",
    "    for batch in data_loader:\n",
    "        age_ids, input_ids, posi_ids, segment_ids, attMask, masked_label = batch\n",
    "\n",
    "        with torch.no_grad():\n",
    "            # Forward pass\n",
    "            loss, pred, label = model(input_ids, age_ids, segment_ids, posi_ids, attention_mask=attMask, masked_lm_labels=masked_label)\n",
    "\n",
    "            # Calculate the predicted labels\n",
    "            predicted_labels = torch.argmax(pred, dim=2).cpu().numpy()\n",
    "\n",
    "        predictions.extend(predicted_labels)\n",
    "        labels.extend(label.cpu().numpy())\n",
    "\n",
    "    return predictions, labels\n",
    "\n",
    "# Load and evaluate the validation datasets\n",
    "validation_folder = '/data/datasets/leyang.sun/BEHRT_validation/'\n",
    "validation_results = []\n",
    "\n",
    "for file_name in os.listdir(validation_folder):\n",
    "    if file_name.endswith('.parquet'):\n",
    "        file_path = os.path.join(validation_folder, file_name)\n",
    "\n",
    "        # Load the validation dataset\n",
    "        validation_data = pd.read_parquet(file_path)\n",
    "\n",
    "        # Create a DataLoader for validation\n",
    "        validation_dataset = MLMLoader(validation_data, token2idx, ageVocab, max_len=train_params['max_len_seq'], code='diagnosis_code')\n",
    "        validation_data_loader = DataLoader(dataset=validation_dataset, batch_size=train_params['batch_size'], shuffle=False)\n",
    "\n",
    "        # Evaluate the model on the validation dataset\n",
    "        predictions, labels = evaluate_model(pretrained_model, validation_data_loader)\n",
    "\n",
    "        # Append the results to the validation_results list\n",
    "        validation_results.append({\n",
    "            'file_name': file_name,\n",
    "            'predictions': predictions,\n",
    "            'labels': labels\n",
    "        })\n",
    "\n",
    "# You can now analyze or display the results in the validation_results list as needed\n",
    "# For example, compute evaluation metrics like precision, recall, F1-score, etc., for each validation set\n"
   ]
  }
 ],
 "metadata": {
  "kernelspec": {
   "display_name": "Python-leyang.sun",
   "language": "python",
   "name": "leyang.sun-env"
  },
  "language_info": {
   "codemirror_mode": {
    "name": "ipython",
    "version": 3
   },
   "file_extension": ".py",
   "mimetype": "text/x-python",
   "name": "python",
   "nbconvert_exporter": "python",
   "pygments_lexer": "ipython3",
   "version": "3.11.4"
  }
 },
 "nbformat": 4,
 "nbformat_minor": 5
}
